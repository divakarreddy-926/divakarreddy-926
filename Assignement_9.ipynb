{
 "cells": [
  {
   "cell_type": "code",
   "execution_count": 2,
   "id": "f5a9834c-2dae-4c87-96c5-dcc796847537",
   "metadata": {},
   "outputs": [
    {
     "name": "stdout",
     "output_type": "stream",
     "text": [
      "10 11 12 13 14 15 16 17 18 19 "
     ]
    }
   ],
   "source": [
    "#range(10,20)\n",
    "i=10\n",
    "while i<20:\n",
    "    print(i,end=' ')\n",
    "    i=i+1"
   ]
  },
  {
   "cell_type": "code",
   "execution_count": 3,
   "id": "dcc7828d-b92b-406b-9bb5-c92d52723b80",
   "metadata": {},
   "outputs": [
    {
     "name": "stdout",
     "output_type": "stream",
     "text": [
      "the square of 1 is:1\n",
      "the square of 2 is:4\n",
      "the square of 3 is:9\n",
      "the square of 4 is:16\n",
      "the square of 5 is:25\n"
     ]
    }
   ],
   "source": [
    "#wap ask the user print the square first five numbers\n",
    "#square of 1  is 1\n",
    "\n",
    "i=1\n",
    "while i<6:\n",
    "    print(f'the square of {i} is:{i*i}')\n",
    "    i=i+1"
   ]
  },
  {
   "cell_type": "code",
   "execution_count": 8,
   "id": "ec206318-dbd4-4798-b97d-6a31679a642f",
   "metadata": {},
   "outputs": [
    {
     "name": "stdin",
     "output_type": "stream",
     "text": [
      "enter the number: 4\n"
     ]
    },
    {
     "name": "stdout",
     "output_type": "stream",
     "text": [
      "the square of 4 is:16\n",
      "the square of 4 is:16\n",
      "the square of 4 is:16\n"
     ]
    }
   ],
   "source": [
    "#wap ask the user enter the number the prompt should happens 5 times\n",
    "#and print the square of the number\n",
    "i=1\n",
    "num=eval(input('enter the number:'))\n",
    "while i<num:\n",
    "    print(f'the square of {num} is:{num*num}')\n",
    "    i=i+1"
   ]
  },
  {
   "cell_type": "code",
   "execution_count": 11,
   "id": "848b41df-4b03-42dc-9e05-5f6c7492c8e8",
   "metadata": {},
   "outputs": [
    {
     "name": "stdin",
     "output_type": "stream",
     "text": [
      "enter the table number: 7\n"
     ]
    },
    {
     "name": "stdout",
     "output_type": "stream",
     "text": [
      "7X1=7\n",
      "7X2=14\n",
      "7X3=21\n",
      "7X4=28\n",
      "7X5=35\n",
      "7X6=42\n",
      "7X7=49\n",
      "7X8=56\n",
      "7X9=63\n",
      "7X10=70\n"
     ]
    }
   ],
   "source": [
    "#print the the 7th table\n",
    "#7*1=7\n",
    "#7*2=14\n",
    "#7*3=21\n",
    "#7*i=num*i\n",
    "\n",
    "i=1\n",
    "num=eval(input('enter the table number:'))\n",
    "while i<11:\n",
    "    print(f\"{num}X{i}={num*i}\")\n",
    "    i=i+1"
   ]
  },
  {
   "cell_type": "code",
   "execution_count": null,
   "id": "cbcd6ee7-3321-4574-aa13-8da98638336f",
   "metadata": {},
   "outputs": [
    {
     "name": "stdin",
     "output_type": "stream",
     "text": [
      "which number divisor you want: 75\n"
     ]
    },
    {
     "name": "stdout",
     "output_type": "stream",
     "text": [
      "1 is a divisor of 75\n"
     ]
    }
   ],
   "source": [
    "#Q5)find the number of divisors of 75\n",
    "#if you divide 75 with any number the reminder should be zero\n",
    "#75%1==00 True then print 1\n",
    "#75%2===0 False\n",
    "#75%3==0 true then print 3\n",
    "#75%4==0  f\n",
    "#75%0==0  T\n",
    "#\n",
    "#75%15==0  t\n",
    "#\n",
    "# 75%15==0 T\n",
    "#75%75==0  \n",
    "#if 75%i==0\n",
    "\n",
    "i=1\n",
    "num=eval(input('which number divisor you want:'))\n",
    "while i<num+1:\n",
    "    if num%i==0:\n",
    "        print(f\"{i} is a divisor of {num}\")\n",
    "        i=i+1"
   ]
  },
  {
   "cell_type": "code",
   "execution_count": null,
   "id": "441ce798-87b0-4a58-be18-dffad4d23120",
   "metadata": {},
   "outputs": [
    {
     "name": "stdin",
     "output_type": "stream",
     "text": [
      "which number divisor you want: 90\n"
     ]
    },
    {
     "name": "stdout",
     "output_type": "stream",
     "text": [
      "1 is a divisor of 90\n",
      "2 is a divisor of 90\n",
      "3 is a divisor of 90\n"
     ]
    }
   ],
   "source": [
    "i=1\n",
    "num=eval(input('which number divisor you want:'))\n",
    "while i<num+1:\n",
    "    if num%i==0:\n",
    "        print(f\"{i} is a divisor of {num}\")\n",
    "        i=i+1"
   ]
  },
  {
   "cell_type": "code",
   "execution_count": null,
   "id": "dc6c9a8e-0acf-4d6a-8167-d57af66a40dc",
   "metadata": {},
   "outputs": [
    {
     "name": "stdin",
     "output_type": "stream",
     "text": [
      "enter the num: 75\n"
     ]
    },
    {
     "name": "stdout",
     "output_type": "stream",
     "text": [
      "1\n"
     ]
    }
   ],
   "source": [
    "i=1\n",
    "num=eval(input('enter the num:'))\n",
    "while i<num+1:\n",
    "    if num%i==0:\n",
    "        print(i)\n",
    "        i=i+1"
   ]
  },
  {
   "cell_type": "code",
   "execution_count": 2,
   "id": "83777a53-26ea-4b45-b696-ef69ce909071",
   "metadata": {},
   "outputs": [
    {
     "name": "stdin",
     "output_type": "stream",
     "text": [
      "enter the number: 6\n"
     ]
    },
    {
     "name": "stdout",
     "output_type": "stream",
     "text": [
      "1\n",
      "you better luck next time\n",
      "chances you are left is: 4\n"
     ]
    },
    {
     "name": "stdin",
     "output_type": "stream",
     "text": [
      "enter the number: 7\n"
     ]
    },
    {
     "name": "stdout",
     "output_type": "stream",
     "text": [
      "8\n",
      "you better luck next time\n",
      "chances you are left is: 3\n"
     ]
    },
    {
     "name": "stdin",
     "output_type": "stream",
     "text": [
      "enter the number: 5\n"
     ]
    },
    {
     "name": "stdout",
     "output_type": "stream",
     "text": [
      "5\n",
      "you won\n",
      "try after 24hours time\n"
     ]
    }
   ],
   "source": [
    "#case-1= we apply break === compoleted\n",
    "#case-2: whenever the user enter the wrong answer\n",
    "#       better luck next time\n",
    "#       how many chances you are left\n",
    "#case-3: if you lost all the chances\n",
    "#      print try after 24hours time\n",
    "#      dont give time.sleep 24hours \n",
    "\n",
    "import random\n",
    "count=5\n",
    "i=1\n",
    "while i<6:\n",
    "    n1=random.randint(1,10)\n",
    "    n2=eval(input('enter the number:'))\n",
    "    print(n1)\n",
    "    if n1==n2:\n",
    "        print('you won')\n",
    "        break\n",
    "    else:\n",
    "        print('you better luck next time')\n",
    "        count=count-1\n",
    "        print(f'chances you are left is: {count}')\n",
    "        i=i+1\n",
    "print('try after 24hours time')\n"
   ]
  },
  {
   "cell_type": "code",
   "execution_count": 3,
   "id": "58e80325-2df7-4604-9f9f-df04ffa1511f",
   "metadata": {},
   "outputs": [
    {
     "name": "stdin",
     "output_type": "stream",
     "text": [
      "enter the number: 4\n"
     ]
    },
    {
     "name": "stdout",
     "output_type": "stream",
     "text": [
      "4\n",
      "you won\n"
     ]
    }
   ],
   "source": [
    "import random\n",
    "i=1\n",
    "while i<3:\n",
    "    n1=random.randint(1,10)\n",
    "    n2=eval(input('enter the number:'))\n",
    "    print(n1)\n",
    "    if n1==n2:\n",
    "        print('you won')\n",
    "        break\n",
    "    else:\n",
    "        print('you lost')\n",
    "        i=i+1"
   ]
  },
  {
   "cell_type": "code",
   "execution_count": 4,
   "id": "51b76a55-6d9b-42f6-b2b0-422e8188a8b6",
   "metadata": {},
   "outputs": [
    {
     "name": "stdout",
     "output_type": "stream",
     "text": [
      "48 is an even\n",
      "18 is an even\n",
      "5 is an odd\n",
      "71 is an odd\n",
      "49 is an odd\n",
      "7 is an odd\n",
      "number of evens are: 2\n",
      "number of odd are: 4\n",
      "sum of evens are: 66\n",
      "sum of odd are: 132\n"
     ]
    }
   ],
   "source": [
    "# Q8)\n",
    "# ask the get 5 random numbers\n",
    "# means you need a get a random number inside for loop\n",
    "# the loop should run 5 times\n",
    "# now perform the even and odd opeation\n",
    "# 1) even count # 2) sum of even numbers 3) odd count 4) sum of add numbers\n",
    "#even_count=0\n",
    "#odd_count=0\n",
    "#even_sum=0\n",
    "#odd_sum=0\n",
    "#for loop\n",
    "#  random\n",
    "#if even\n",
    "#  summ\n",
    "#counter\n",
    "#else\n",
    "# summ\n",
    "#count\n",
    "\n",
    "import random\n",
    "i=1\n",
    "even_count,odd_count=0,0\n",
    "even_sum,odd_sum=0,0\n",
    "while i<5:\n",
    "    num=random.randint(1,100)\n",
    "    if num%2==0:\n",
    "        print(f\"{num} is an even\")\n",
    "        even_count=even_count+1\n",
    "        even_sum=even_sum+num\n",
    "    else:\n",
    "        print(f\"{num} is an odd\")\n",
    "        odd_count=odd_count+1\n",
    "        odd_sum=odd_sum+num\n",
    "        i=i+1\n",
    "print('number of evens are:',even_count)\n",
    "print('number of odd are:',odd_count)\n",
    "print('sum of evens are:',even_sum)\n",
    "print('sum of odd are:',odd_sum)"
   ]
  },
  {
   "cell_type": "code",
   "execution_count": null,
   "id": "d8cf7faf-04df-40d0-8e4d-d6aab5fce414",
   "metadata": {},
   "outputs": [],
   "source": []
  }
 ],
 "metadata": {
  "kernelspec": {
   "display_name": "Python 3 (ipykernel)",
   "language": "python",
   "name": "python3"
  },
  "language_info": {
   "codemirror_mode": {
    "name": "ipython",
    "version": 3
   },
   "file_extension": ".py",
   "mimetype": "text/x-python",
   "name": "python",
   "nbconvert_exporter": "python",
   "pygments_lexer": "ipython3",
   "version": "3.12.7"
  }
 },
 "nbformat": 4,
 "nbformat_minor": 5
}
