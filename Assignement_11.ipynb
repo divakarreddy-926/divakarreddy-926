{
 "cells": [
  {
   "cell_type": "code",
   "execution_count": 2,
   "id": "42163397-8629-4fd0-895b-ee63a82f501f",
   "metadata": {},
   "outputs": [
    {
     "name": "stdout",
     "output_type": "stream",
     "text": [
      "2\n",
      "6\n",
      "10\n"
     ]
    }
   ],
   "source": [
    "# write a progarm to find the indexes of 'a' in a given string\n",
    "#     str1='ola ola ola'\n",
    "\n",
    "str1='ola ola ola'\n",
    "n=len(str1)\n",
    "for i in range(n):\n",
    "    if str1[i]=='a':\n",
    "        print(i)"
   ]
  },
  {
   "cell_type": "code",
   "execution_count": 25,
   "id": "64b9ae76-1ecf-4d23-b4ce-bc770acdce4f",
   "metadata": {},
   "outputs": [
    {
     "name": "stdout",
     "output_type": "stream",
     "text": [
      "2\n",
      "6\n",
      "10\n",
      "the sum of index of {a} is 3\n"
     ]
    }
   ],
   "source": [
    "# Q5) write a program to find the sum of all indexes of 'a' in a given string\n",
    "#    str1='ola ola ola'\n",
    "\n",
    "str1='ola ola ola'\n",
    "n=len(str1)\n",
    "summ=0\n",
    "for i in range(n):\n",
    "    if str1[i]=='a':\n",
    "        summ=summ+1\n",
    "        print(i)\n",
    "print('the sum of index of {a} is',summ)"
   ]
  },
  {
   "cell_type": "code",
   "execution_count": 18,
   "id": "730ad567-f937-45b9-8b02-f1e2816f559a",
   "metadata": {},
   "outputs": [
    {
     "name": "stdout",
     "output_type": "stream",
     "text": [
      "a\n",
      "a\n",
      "a\n"
     ]
    }
   ],
   "source": [
    "# Q6) write a progarm to find the number of 'a' in a given string\n",
    "#    str1='ola ola ola'\n",
    "\n",
    "str1='ola ola ola'\n",
    "count=0\n",
    "for i in str1:\n",
    "    if i=='a':\n",
    "        count=count+1\n",
    "        print(i)"
   ]
  },
  {
   "cell_type": "code",
   "execution_count": 20,
   "id": "4c81788d-d335-47af-bf68-d30b909db66f",
   "metadata": {},
   "outputs": [
    {
     "name": "stdout",
     "output_type": "stream",
     "text": [
      "a\n",
      "i\n",
      "o\n",
      "a\n",
      "e\n",
      "o\n",
      "u\n"
     ]
    }
   ],
   "source": [
    "# Q7) write a progarm to find the vowels and its count in a given string\n",
    "#    str1='hai how are you'\n",
    "\n",
    "str2='hai how are you'\n",
    "s1='aeiou'\n",
    "count=0\n",
    "for i in str2:\n",
    "    if i in s1:\n",
    "        count=count+1\n",
    "        print(i)"
   ]
  },
  {
   "cell_type": "code",
   "execution_count": 22,
   "id": "4abd2a3d-2d94-4bdb-a6cb-5f9622b28e73",
   "metadata": {},
   "outputs": [
    {
     "name": "stdout",
     "output_type": "stream",
     "text": [
      "e\n",
      "o\n"
     ]
    }
   ],
   "source": [
    "# Q8) write a progarm to find the vowels which are repaeting then print only\n",
    "#     one time\n",
    "#     example: helleo  \n",
    "#      e is coming two times but we want to print only one time\n",
    "\n",
    "\n",
    "str1='helleo' \n",
    "s1=''\n",
    "for i in str1:\n",
    "    if i in 'aeiou' and i not in s1:\n",
    "        print(i)\n",
    "        s1=s1+i\n",
    "        "
   ]
  },
  {
   "cell_type": "code",
   "execution_count": null,
   "id": "4610bf58-36a4-4702-89b9-63102b42edd0",
   "metadata": {},
   "outputs": [],
   "source": []
  }
 ],
 "metadata": {
  "kernelspec": {
   "display_name": "Python 3 (ipykernel)",
   "language": "python",
   "name": "python3"
  },
  "language_info": {
   "codemirror_mode": {
    "name": "ipython",
    "version": 3
   },
   "file_extension": ".py",
   "mimetype": "text/x-python",
   "name": "python",
   "nbconvert_exporter": "python",
   "pygments_lexer": "ipython3",
   "version": "3.12.7"
  }
 },
 "nbformat": 4,
 "nbformat_minor": 5
}
