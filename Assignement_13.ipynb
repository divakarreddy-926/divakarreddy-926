{
 "cells": [
  {
   "cell_type": "markdown",
   "id": "cb3ef594-38fa-45d7-b444-9e97c97937f0",
   "metadata": {},
   "source": [
    "**count**"
   ]
  },
  {
   "cell_type": "code",
   "execution_count": 4,
   "id": "bdc8a7a8-18c9-42b6-a24b-6d2ce2f937ff",
   "metadata": {},
   "outputs": [
    {
     "name": "stdout",
     "output_type": "stream",
     "text": [
      "3\n"
     ]
    }
   ],
   "source": [
    "str1='ola ola ola'\n",
    "count=0\n",
    "for i in range(len(str1)):\n",
    "    if str1[i]=='a':\n",
    "        count=count+1\n",
    "print(count)"
   ]
  },
  {
   "cell_type": "code",
   "execution_count": 5,
   "id": "ec3e9f8a-9e7e-482b-b42d-32348000fa87",
   "metadata": {},
   "outputs": [
    {
     "name": "stdout",
     "output_type": "stream",
     "text": [
      "3\n"
     ]
    }
   ],
   "source": [
    "str1='ola ola ola'\n",
    "count=0\n",
    "for i in str1:\n",
    "    if i=='a':\n",
    "        count=count+1\n",
    "print(count)"
   ]
  },
  {
   "cell_type": "code",
   "execution_count": 6,
   "id": "0466134f-e9a2-4be3-9a30-42aedda1c379",
   "metadata": {},
   "outputs": [
    {
     "data": {
      "text/plain": [
       "3"
      ]
     },
     "execution_count": 6,
     "metadata": {},
     "output_type": "execute_result"
    }
   ],
   "source": [
    "str1='ola ola ola'\n",
    "str1.count('a')"
   ]
  },
  {
   "cell_type": "code",
   "execution_count": 7,
   "id": "fb727da3-dc79-4005-a808-44b7d21b9749",
   "metadata": {},
   "outputs": [
    {
     "name": "stdout",
     "output_type": "stream",
     "text": [
      "3\n"
     ]
    }
   ],
   "source": [
    "str1='hi hello how are you'\n",
    "count=0\n",
    "for i in str1:\n",
    "    if i=='h':\n",
    "        count=count+1\n",
    "print(count)"
   ]
  },
  {
   "cell_type": "code",
   "execution_count": 8,
   "id": "276d1b53-80ef-4e94-99ec-df2c2153389c",
   "metadata": {},
   "outputs": [
    {
     "data": {
      "text/plain": [
       "3"
      ]
     },
     "execution_count": 8,
     "metadata": {},
     "output_type": "execute_result"
    }
   ],
   "source": [
    "str1='hi hello how are you'\n",
    "str1.count('h')"
   ]
  },
  {
   "cell_type": "code",
   "execution_count": 9,
   "id": "e29f51dd-4595-412a-8efd-27f127863ea4",
   "metadata": {},
   "outputs": [
    {
     "data": {
      "text/plain": [
       "3"
      ]
     },
     "execution_count": 9,
     "metadata": {},
     "output_type": "execute_result"
    }
   ],
   "source": [
    "str1='hi hello how are you'\n",
    "str1.count('o')"
   ]
  },
  {
   "cell_type": "code",
   "execution_count": 10,
   "id": "60b04640-6b90-4972-b904-f6eb7348bfbe",
   "metadata": {},
   "outputs": [
    {
     "data": {
      "text/plain": [
       "2"
      ]
     },
     "execution_count": 10,
     "metadata": {},
     "output_type": "execute_result"
    }
   ],
   "source": [
    "str1='hi hello how are you'\n",
    "str1.count('e')"
   ]
  },
  {
   "cell_type": "markdown",
   "id": "f7c75952-b967-431b-87f3-b9fe663ee202",
   "metadata": {},
   "source": [
    "**replace**"
   ]
  },
  {
   "cell_type": "code",
   "execution_count": 11,
   "id": "5f1ede16-479f-44ce-9c54-17ebd7ede2fb",
   "metadata": {},
   "outputs": [
    {
     "data": {
      "text/plain": [
       "'hi h&llo how ar& you'"
      ]
     },
     "execution_count": 11,
     "metadata": {},
     "output_type": "execute_result"
    }
   ],
   "source": [
    "str1='hi hello how are you'\n",
    "str1.replace('e','&')"
   ]
  },
  {
   "cell_type": "code",
   "execution_count": 12,
   "id": "07dd6288-b3e8-47f3-af4d-f769fa61526b",
   "metadata": {},
   "outputs": [
    {
     "data": {
      "text/plain": [
       "'@i @ello @ow are you'"
      ]
     },
     "execution_count": 12,
     "metadata": {},
     "output_type": "execute_result"
    }
   ],
   "source": [
    "str1='hi hello how are you'\n",
    "str1.replace('h','@')"
   ]
  },
  {
   "cell_type": "code",
   "execution_count": 13,
   "id": "9092bda5-1edb-4052-9310-2481e79953f6",
   "metadata": {},
   "outputs": [
    {
     "data": {
      "text/plain": [
       "'@i hello how are you'"
      ]
     },
     "execution_count": 13,
     "metadata": {},
     "output_type": "execute_result"
    }
   ],
   "source": [
    "str1='hi hello how are you'\n",
    "str1.replace('h','@',1)"
   ]
  },
  {
   "cell_type": "code",
   "execution_count": 14,
   "id": "1449288b-1da3-4c3a-be95-e3ce0e468669",
   "metadata": {},
   "outputs": [
    {
     "data": {
      "text/plain": [
       "'@i @ello how are you'"
      ]
     },
     "execution_count": 14,
     "metadata": {},
     "output_type": "execute_result"
    }
   ],
   "source": [
    "str1='hi hello how are you'\n",
    "str1.replace('h','@',2)"
   ]
  },
  {
   "cell_type": "code",
   "execution_count": 15,
   "id": "d74c98e5-a629-44ea-8c2a-a0f2bb543afa",
   "metadata": {},
   "outputs": [
    {
     "data": {
      "text/plain": [
       "'ol! ol! ol!'"
      ]
     },
     "execution_count": 15,
     "metadata": {},
     "output_type": "execute_result"
    }
   ],
   "source": [
    "str1='ola ola ola'\n",
    "str1.replace('a','!')"
   ]
  },
  {
   "cell_type": "code",
   "execution_count": 16,
   "id": "5be1fbc8-9db9-488d-a4f3-86b27e5cbc51",
   "metadata": {},
   "outputs": [
    {
     "data": {
      "text/plain": [
       "'ol! ol! ola'"
      ]
     },
     "execution_count": 16,
     "metadata": {},
     "output_type": "execute_result"
    }
   ],
   "source": [
    "str1='ola ola ola'\n",
    "str1.replace('a','!',2)"
   ]
  },
  {
   "cell_type": "code",
   "execution_count": 26,
   "id": "2d505429-58b5-45ae-a5c5-31e27e177a6a",
   "metadata": {},
   "outputs": [
    {
     "data": {
      "text/plain": [
       "'hi hello #ow are you'"
      ]
     },
     "execution_count": 26,
     "metadata": {},
     "output_type": "execute_result"
    }
   ],
   "source": [
    "str1='hi hello how are you'\n",
    "s1=str1[0:9]\n",
    "s2=str1[9:]\n",
    "s3=s2.replace('h','#')\n",
    "s1+s3"
   ]
  },
  {
   "cell_type": "markdown",
   "id": "7f8b3387-ac4a-43f4-917a-509212b2df7e",
   "metadata": {},
   "source": [
    "**find**"
   ]
  },
  {
   "cell_type": "code",
   "execution_count": 28,
   "id": "d826c34d-7d18-4627-a11f-a84ca33a5e8d",
   "metadata": {},
   "outputs": [
    {
     "data": {
      "text/plain": [
       "0"
      ]
     },
     "execution_count": 28,
     "metadata": {},
     "output_type": "execute_result"
    }
   ],
   "source": [
    "str1='hi hello how are you'\n",
    "str1.find('h')"
   ]
  },
  {
   "cell_type": "code",
   "execution_count": 29,
   "id": "f82d73f8-e229-41e2-ab08-64f174da20ae",
   "metadata": {},
   "outputs": [
    {
     "data": {
      "text/plain": [
       "7"
      ]
     },
     "execution_count": 29,
     "metadata": {},
     "output_type": "execute_result"
    }
   ],
   "source": [
    "str1='hi hello how are you'\n",
    "str1.find('o')"
   ]
  },
  {
   "cell_type": "code",
   "execution_count": 30,
   "id": "81201d47-ec9c-4d5d-8b92-0e5b4b8f17ed",
   "metadata": {},
   "outputs": [
    {
     "data": {
      "text/plain": [
       "17"
      ]
     },
     "execution_count": 30,
     "metadata": {},
     "output_type": "execute_result"
    }
   ],
   "source": [
    "str1='hi hello how are you'\n",
    "str1.find('y')"
   ]
  },
  {
   "cell_type": "markdown",
   "id": "71935157-f8c2-48c5-bfc8-56c16657227b",
   "metadata": {},
   "source": [
    "**index**"
   ]
  },
  {
   "cell_type": "code",
   "execution_count": 37,
   "id": "1cc48edc-1ebf-43cc-9713-336e5e6dae30",
   "metadata": {},
   "outputs": [
    {
     "data": {
      "text/plain": [
       "3"
      ]
     },
     "execution_count": 37,
     "metadata": {},
     "output_type": "execute_result"
    }
   ],
   "source": [
    "str1='hi hello how are you'\n",
    "str1.index('h',1)"
   ]
  },
  {
   "cell_type": "code",
   "execution_count": 38,
   "id": "0c7b6403-b7ac-44e3-924c-7ec75abc481c",
   "metadata": {},
   "outputs": [
    {
     "data": {
      "text/plain": [
       "9"
      ]
     },
     "execution_count": 38,
     "metadata": {},
     "output_type": "execute_result"
    }
   ],
   "source": [
    "str1='hi hello how are you'\n",
    "str1.index('h',4)"
   ]
  },
  {
   "cell_type": "code",
   "execution_count": 41,
   "id": "99b665ad-b366-4f46-b076-701843664416",
   "metadata": {},
   "outputs": [
    {
     "data": {
      "text/plain": [
       "7"
      ]
     },
     "execution_count": 41,
     "metadata": {},
     "output_type": "execute_result"
    }
   ],
   "source": [
    "str1='hi hello how are you'\n",
    "str1.index('o')"
   ]
  },
  {
   "cell_type": "code",
   "execution_count": 40,
   "id": "b0581673-5ec2-47d5-82da-6fd3677e425d",
   "metadata": {},
   "outputs": [
    {
     "data": {
      "text/plain": [
       "10"
      ]
     },
     "execution_count": 40,
     "metadata": {},
     "output_type": "execute_result"
    }
   ],
   "source": [
    "str1='hi hello how are you'\n",
    "str1.index('o',8)"
   ]
  },
  {
   "cell_type": "code",
   "execution_count": 42,
   "id": "849bd635-077f-4d48-b304-5b6d4512cce1",
   "metadata": {},
   "outputs": [
    {
     "data": {
      "text/plain": [
       "18"
      ]
     },
     "execution_count": 42,
     "metadata": {},
     "output_type": "execute_result"
    }
   ],
   "source": [
    "str1='hi hello how are you'\n",
    "str1.index('o',11)"
   ]
  },
  {
   "cell_type": "code",
   "execution_count": 45,
   "id": "e987de2e-e1d8-4466-b264-69deaa940464",
   "metadata": {},
   "outputs": [
    {
     "name": "stdout",
     "output_type": "stream",
     "text": [
      "7 10 18\n"
     ]
    }
   ],
   "source": [
    "str1='hi hello how are you'\n",
    "i1=str1.index('o')     #i1=7\n",
    "i2=str1.index('o',8)   # i2=i1+1\n",
    "i3=str1.index('o',11)  #  i3=i2+1\n",
    "print(i1,i2,i3)"
   ]
  },
  {
   "cell_type": "code",
   "execution_count": null,
   "id": "8c14c7e5-c0a3-41c7-a348-9a252d343844",
   "metadata": {},
   "outputs": [],
   "source": []
  }
 ],
 "metadata": {
  "kernelspec": {
   "display_name": "Python 3 (ipykernel)",
   "language": "python",
   "name": "python3"
  },
  "language_info": {
   "codemirror_mode": {
    "name": "ipython",
    "version": 3
   },
   "file_extension": ".py",
   "mimetype": "text/x-python",
   "name": "python",
   "nbconvert_exporter": "python",
   "pygments_lexer": "ipython3",
   "version": "3.12.7"
  }
 },
 "nbformat": 4,
 "nbformat_minor": 5
}
